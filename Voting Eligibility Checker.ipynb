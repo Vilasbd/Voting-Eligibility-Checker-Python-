{
 "cells": [
  {
   "cell_type": "markdown",
   "id": "e46694ec-cdff-4f2d-bf5d-54760a606d98",
   "metadata": {},
   "source": [
    "Check if your age is eligible for voting :"
   ]
  },
  {
   "cell_type": "code",
   "execution_count": 16,
   "id": "c5b69c62-2cfb-4da4-b882-e536b4c6177c",
   "metadata": {},
   "outputs": [
    {
     "name": "stdout",
     "output_type": "stream",
     "text": [
      "Welcome to the Voting Eligibility Checker!\n"
     ]
    },
    {
     "name": "stdout",
     "output_type": "stream",
     "text": [
      "Please enter your age:  24\n"
     ]
    },
    {
     "name": "stdout",
     "output_type": "stream",
     "text": [
      "You are eligible to vote!\n"
     ]
    }
   ],
   "source": [
    "def vote(age):\n",
    "    \"\"\"Check if the given age is eligible for voting.\"\"\"\n",
    "    if age >= 18:\n",
    "        return True\n",
    "    else:\n",
    "        return False\n",
    "\n",
    "def main():\n",
    "    print(\"Welcome to the Voting Eligibility Checker!\")\n",
    "\n",
    "    try:\n",
    "        age = int(input(\"Please enter your age: \"))\n",
    "        \n",
    "        if age > 100:\n",
    "            print(\"Age seems unusually high. Please verify your age.\")\n",
    "        elif age < 0:\n",
    "            print(\"Age cannot be negative. Please enter a valid age.\")\n",
    "        elif vote(age):\n",
    "            print(\"You are eligible to vote!\")\n",
    "        else:\n",
    "            print(\"Sorry, you are not eligible to vote.\")\n",
    "    except ValueError:\n",
    "        print(\"Invalid input. Please enter a valid number for your age.\")\n",
    "\n",
    "if __name__ == \"__main__\":\n",
    "    main()\n"
   ]
  }
 ],
 "metadata": {
  "kernelspec": {
   "display_name": "Python 3 (ipykernel)",
   "language": "python",
   "name": "python3"
  },
  "language_info": {
   "codemirror_mode": {
    "name": "ipython",
    "version": 3
   },
   "file_extension": ".py",
   "mimetype": "text/x-python",
   "name": "python",
   "nbconvert_exporter": "python",
   "pygments_lexer": "ipython3",
   "version": "3.11.7"
  }
 },
 "nbformat": 4,
 "nbformat_minor": 5
}
